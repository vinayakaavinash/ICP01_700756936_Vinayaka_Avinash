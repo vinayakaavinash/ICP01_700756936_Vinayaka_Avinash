{
  "nbformat": 4,
  "nbformat_minor": 0,
  "metadata": {
    "colab": {
      "provenance": []
    },
    "kernelspec": {
      "name": "python3",
      "display_name": "Python 3"
    },
    "language_info": {
      "name": "python"
    }
  },
  "cells": [
    {
      "cell_type": "code",
      "execution_count": 1,
      "metadata": {
        "colab": {
          "base_uri": "https://localhost:8080/"
        },
        "id": "VKObSVWXvn_D",
        "outputId": "74c1e602-46be-4e75-a1bc-094d2237ee4d"
      },
      "outputs": [
        {
          "output_type": "stream",
          "name": "stdout",
          "text": [
            "enter your first name Vinayaka Avinash\n",
            "enter your last name Anabathula\n",
            "your full name is Vinayaka AvinashAnabathula\n"
          ]
        }
      ],
      "source": [
        "def fullname(firstname,lastname):\n",
        "  return firstname+lastname\n",
        "\n",
        "firstname=input(\"enter your first name \")\n",
        "lastname=input(\"enter your last name \")\n",
        "fullname=fullname(firstname,lastname)\n",
        "print(\"your full name is \"+fullname)"
      ]
    },
    {
      "cell_type": "code",
      "source": [
        "def string_alternative(fullname):\n",
        "  return fullname[::2]\n",
        "\n",
        "fullname=input(\"enter the fullname \")\n",
        "print(string_alternative(fullname))"
      ],
      "metadata": {
        "colab": {
          "base_uri": "https://localhost:8080/"
        },
        "id": "o-g7QAEUwEna",
        "outputId": "de0c03fd-149d-403b-faf4-adb5640f1310"
      },
      "execution_count": 2,
      "outputs": [
        {
          "output_type": "stream",
          "name": "stdout",
          "text": [
            "enter the fullname Vinayaka Avinash Anabathula\n",
            "Vnyk vns nbtua\n"
          ]
        }
      ]
    },
    {
      "cell_type": "code",
      "source": [
        "from collections import Counter\n",
        "with open('/content/input.txt', 'r') as input_file:\n",
        "    lines = input_file.readlines()\n",
        "\n",
        "output_lines = []\n",
        "list_of_words = []\n",
        "\n",
        "for line in lines:\n",
        "    line = line.strip()\n",
        "\n",
        "    list_of_words.extend(line.split(\" \"))\n",
        "\n",
        "\n",
        "element_count = Counter(list_of_words)\n",
        "\n",
        "for element, count in element_count.items():\n",
        "  output_lines.append(f\"{element} - Count: {count}\")\n",
        "\n",
        "with open('\\My Drive\\Colab Notebooks\\output.txt', 'w') as output_file:\n",
        "    output_file.write(\"Python Course\" + '\\n')\n",
        "    output_file.write(\"Deep Learning Course\" + '\\n')\n",
        "    output_file.write(\"Word_Count:\" + '\\n')\n",
        "    for line in output_lines:\n",
        "        output_file.write(line + '\\n')\n",
        "\n",
        "print(\"Output written to output.txt\")"
      ],
      "metadata": {
        "colab": {
          "base_uri": "https://localhost:8080/"
        },
        "id": "XGuVCLWtwRjO",
        "outputId": "4cedbf0d-3f44-49fa-8b64-1d3c7b5929f2"
      },
      "execution_count": 7,
      "outputs": [
        {
          "output_type": "stream",
          "name": "stdout",
          "text": [
            "Output written to output.txt\n"
          ]
        }
      ]
    },
    {
      "cell_type": "code",
      "source": [
        "height_inch=[]\n",
        "height_cm=[]\n",
        "\n",
        "\n",
        "num_customers = int(input(\"Enter the number of customers: \"))\n",
        "heights_inches = [float(input(f\"Enter the height in inches of the customer {i + 1}: \")) for i in range(num_customers)]\n",
        "heights_cm = [inches * 2.54 for inches in heights_inches]\n",
        "for i in range(num_customers):\n",
        "    print(f\"Customer {i + 1}: {heights_inches[i]} inches = {heights_cm[i]} cm\")"
      ],
      "metadata": {
        "colab": {
          "base_uri": "https://localhost:8080/"
        },
        "id": "mV-A0RJvx4ug",
        "outputId": "45d275ff-3a88-4069-a927-0cdc76f70c8e"
      },
      "execution_count": 8,
      "outputs": [
        {
          "output_type": "stream",
          "name": "stdout",
          "text": [
            "Enter the number of customers: 3\n",
            "Enter the height in inches of the customer 1: 10\n",
            "Enter the height in inches of the customer 2: 20\n",
            "Enter the height in inches of the customer 3: 30\n",
            "Customer 1: 10.0 inches = 25.4 cm\n",
            "Customer 2: 20.0 inches = 50.8 cm\n",
            "Customer 3: 30.0 inches = 76.2 cm\n"
          ]
        }
      ]
    },
    {
      "cell_type": "code",
      "source": [
        "height_inches=[]\n",
        "height_cm=[]\n",
        "\n",
        "height_inches=[10,20,30,40,50]\n",
        "height_cm=[inch*2.54 for inch in height_inches]\n",
        "print(height_cm)"
      ],
      "metadata": {
        "colab": {
          "base_uri": "https://localhost:8080/"
        },
        "id": "uOuRr5QQyGSq",
        "outputId": "7a849d7b-32bb-453b-9ae8-1bdc6b88be7c"
      },
      "execution_count": 9,
      "outputs": [
        {
          "output_type": "stream",
          "name": "stdout",
          "text": [
            "[25.4, 50.8, 76.2, 101.6, 127.0]\n"
          ]
        }
      ]
    }
  ]
}